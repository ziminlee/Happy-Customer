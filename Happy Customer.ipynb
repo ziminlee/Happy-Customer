{
 "cells": [
  {
   "cell_type": "markdown",
   "id": "ba16c1cb-ec62-42a2-8a29-b99135f0ee25",
   "metadata": {},
   "source": [
    "# Project - Happy Customer\n",
    "**Name: Zimin Lee**"
   ]
  },
  {
   "cell_type": "code",
   "execution_count": 1,
   "id": "dfeccddf-78aa-4332-948a-c8f5ab248e77",
   "metadata": {},
   "outputs": [],
   "source": [
    "import numpy as np\n",
    "import pandas as pd\n",
    "from sklearn.tree import DecisionTreeClassifier\n",
    "from sklearn.metrics import classification_report, accuracy_score, confusion_matrix\n",
    "import xgboost as xgb\n",
    "from xgboost import plot_tree\n",
    "from xgboost import XGBClassifier\n",
    "from sklearn.model_selection import train_test_split"
   ]
  },
  {
   "cell_type": "markdown",
   "id": "a687e335-cd90-4592-b004-4318efa074b8",
   "metadata": {},
   "source": [
    "**Background:**\n",
    "\n",
    "We are one of the fastest growing startups in the logistics and delivery domain. We work with several partners and make on-demand delivery to our customers. During the COVID-19 pandemic, we are facing several different challenges and everyday we are trying to address these challenges.\n",
    "\n",
    "We thrive on making our customers happy. As a growing startup, with a global expansion strategy we know that we need to make our customers happy and the only way to do that is to measure how happy each customer is. If we can predict what makes our customers happy or unhappy, we can then take necessary actions.\n",
    "\n",
    "Getting feedback from customers is not easy either, but we do our best to get constant feedback from our customers. This is a crucial function to improve our operations across all levels.\n",
    "\n",
    "We recently did a survey to a select customer cohort. You are presented with a subset of this data. We will be using the remaining data as a private test set.\n"
   ]
  },
  {
   "cell_type": "code",
   "execution_count": 2,
   "id": "f85b8e9a-9992-4761-936b-7b0a15a7fb4b",
   "metadata": {},
   "outputs": [
    {
     "data": {
      "text/html": [
       "<div>\n",
       "<style scoped>\n",
       "    .dataframe tbody tr th:only-of-type {\n",
       "        vertical-align: middle;\n",
       "    }\n",
       "\n",
       "    .dataframe tbody tr th {\n",
       "        vertical-align: top;\n",
       "    }\n",
       "\n",
       "    .dataframe thead th {\n",
       "        text-align: right;\n",
       "    }\n",
       "</style>\n",
       "<table border=\"1\" class=\"dataframe\">\n",
       "  <thead>\n",
       "    <tr style=\"text-align: right;\">\n",
       "      <th></th>\n",
       "      <th>Y</th>\n",
       "      <th>X1</th>\n",
       "      <th>X2</th>\n",
       "      <th>X3</th>\n",
       "      <th>X4</th>\n",
       "      <th>X5</th>\n",
       "      <th>X6</th>\n",
       "    </tr>\n",
       "  </thead>\n",
       "  <tbody>\n",
       "    <tr>\n",
       "      <th>0</th>\n",
       "      <td>0</td>\n",
       "      <td>3</td>\n",
       "      <td>3</td>\n",
       "      <td>3</td>\n",
       "      <td>4</td>\n",
       "      <td>2</td>\n",
       "      <td>4</td>\n",
       "    </tr>\n",
       "    <tr>\n",
       "      <th>1</th>\n",
       "      <td>0</td>\n",
       "      <td>3</td>\n",
       "      <td>2</td>\n",
       "      <td>3</td>\n",
       "      <td>5</td>\n",
       "      <td>4</td>\n",
       "      <td>3</td>\n",
       "    </tr>\n",
       "    <tr>\n",
       "      <th>2</th>\n",
       "      <td>1</td>\n",
       "      <td>5</td>\n",
       "      <td>3</td>\n",
       "      <td>3</td>\n",
       "      <td>3</td>\n",
       "      <td>3</td>\n",
       "      <td>5</td>\n",
       "    </tr>\n",
       "    <tr>\n",
       "      <th>3</th>\n",
       "      <td>0</td>\n",
       "      <td>5</td>\n",
       "      <td>4</td>\n",
       "      <td>3</td>\n",
       "      <td>3</td>\n",
       "      <td>3</td>\n",
       "      <td>5</td>\n",
       "    </tr>\n",
       "    <tr>\n",
       "      <th>4</th>\n",
       "      <td>0</td>\n",
       "      <td>5</td>\n",
       "      <td>4</td>\n",
       "      <td>3</td>\n",
       "      <td>3</td>\n",
       "      <td>3</td>\n",
       "      <td>5</td>\n",
       "    </tr>\n",
       "    <tr>\n",
       "      <th>5</th>\n",
       "      <td>1</td>\n",
       "      <td>5</td>\n",
       "      <td>5</td>\n",
       "      <td>3</td>\n",
       "      <td>5</td>\n",
       "      <td>5</td>\n",
       "      <td>5</td>\n",
       "    </tr>\n",
       "    <tr>\n",
       "      <th>6</th>\n",
       "      <td>0</td>\n",
       "      <td>3</td>\n",
       "      <td>1</td>\n",
       "      <td>2</td>\n",
       "      <td>2</td>\n",
       "      <td>1</td>\n",
       "      <td>3</td>\n",
       "    </tr>\n",
       "    <tr>\n",
       "      <th>7</th>\n",
       "      <td>1</td>\n",
       "      <td>5</td>\n",
       "      <td>4</td>\n",
       "      <td>4</td>\n",
       "      <td>4</td>\n",
       "      <td>4</td>\n",
       "      <td>5</td>\n",
       "    </tr>\n",
       "    <tr>\n",
       "      <th>8</th>\n",
       "      <td>0</td>\n",
       "      <td>4</td>\n",
       "      <td>1</td>\n",
       "      <td>4</td>\n",
       "      <td>4</td>\n",
       "      <td>4</td>\n",
       "      <td>4</td>\n",
       "    </tr>\n",
       "    <tr>\n",
       "      <th>9</th>\n",
       "      <td>0</td>\n",
       "      <td>4</td>\n",
       "      <td>4</td>\n",
       "      <td>4</td>\n",
       "      <td>2</td>\n",
       "      <td>5</td>\n",
       "      <td>5</td>\n",
       "    </tr>\n",
       "  </tbody>\n",
       "</table>\n",
       "</div>"
      ],
      "text/plain": [
       "   Y  X1  X2  X3  X4  X5  X6\n",
       "0  0   3   3   3   4   2   4\n",
       "1  0   3   2   3   5   4   3\n",
       "2  1   5   3   3   3   3   5\n",
       "3  0   5   4   3   3   3   5\n",
       "4  0   5   4   3   3   3   5\n",
       "5  1   5   5   3   5   5   5\n",
       "6  0   3   1   2   2   1   3\n",
       "7  1   5   4   4   4   4   5\n",
       "8  0   4   1   4   4   4   4\n",
       "9  0   4   4   4   2   5   5"
      ]
     },
     "execution_count": 2,
     "metadata": {},
     "output_type": "execute_result"
    }
   ],
   "source": [
    "#Read File \n",
    "df = pd.read_csv(\"C:\\\\Users\\\\zzzim\\\\Desktop\\\\Apziva\\\\ACME-HappinessSurvey2020.csv\", sep=',')\n",
    "df.head(10)"
   ]
  },
  {
   "cell_type": "markdown",
   "id": "eaecb329-708f-4975-9f84-bde7dfa56717",
   "metadata": {},
   "source": [
    "**Variable dictionary**:\n",
    "\n",
    "Y = target attribute (Y) with values indicating 0 (unhappy) and 1 (happy) customers\\\n",
    "X1 = my order was delivered on time\\\n",
    "X2 = contents of my order was as I expected\\\n",
    "X3 = I ordered everything I wanted to order\\\n",
    "X4 = I paid a good price for my order\\\n",
    "X5 = I am satisfied with my courier\\\n",
    "X6 = the app makes ordering easy for me\\\n",
    "\\\n",
    "Attributes X1 to X6 indicate the responses for each question and have values from 1 to 5 where the smaller number indicates less and the higher number indicates more towards the answer.\n"
   ]
  },
  {
   "cell_type": "code",
   "execution_count": 3,
   "id": "fcb90a0f-40ea-4688-ab2e-b6a9259e6080",
   "metadata": {},
   "outputs": [
    {
     "data": {
      "text/html": [
       "<div>\n",
       "<style scoped>\n",
       "    .dataframe tbody tr th:only-of-type {\n",
       "        vertical-align: middle;\n",
       "    }\n",
       "\n",
       "    .dataframe tbody tr th {\n",
       "        vertical-align: top;\n",
       "    }\n",
       "\n",
       "    .dataframe thead th {\n",
       "        text-align: right;\n",
       "    }\n",
       "</style>\n",
       "<table border=\"1\" class=\"dataframe\">\n",
       "  <thead>\n",
       "    <tr style=\"text-align: right;\">\n",
       "      <th></th>\n",
       "      <th>Happy</th>\n",
       "      <th>DeliveredOnTime</th>\n",
       "      <th>ExpectedContent</th>\n",
       "      <th>DesiredOrder</th>\n",
       "      <th>GoodPrice</th>\n",
       "      <th>SatisfiedOrder</th>\n",
       "      <th>EasyOrderProcess</th>\n",
       "    </tr>\n",
       "  </thead>\n",
       "  <tbody>\n",
       "    <tr>\n",
       "      <th>0</th>\n",
       "      <td>0</td>\n",
       "      <td>3</td>\n",
       "      <td>3</td>\n",
       "      <td>3</td>\n",
       "      <td>4</td>\n",
       "      <td>2</td>\n",
       "      <td>4</td>\n",
       "    </tr>\n",
       "    <tr>\n",
       "      <th>1</th>\n",
       "      <td>0</td>\n",
       "      <td>3</td>\n",
       "      <td>2</td>\n",
       "      <td>3</td>\n",
       "      <td>5</td>\n",
       "      <td>4</td>\n",
       "      <td>3</td>\n",
       "    </tr>\n",
       "    <tr>\n",
       "      <th>2</th>\n",
       "      <td>1</td>\n",
       "      <td>5</td>\n",
       "      <td>3</td>\n",
       "      <td>3</td>\n",
       "      <td>3</td>\n",
       "      <td>3</td>\n",
       "      <td>5</td>\n",
       "    </tr>\n",
       "    <tr>\n",
       "      <th>3</th>\n",
       "      <td>0</td>\n",
       "      <td>5</td>\n",
       "      <td>4</td>\n",
       "      <td>3</td>\n",
       "      <td>3</td>\n",
       "      <td>3</td>\n",
       "      <td>5</td>\n",
       "    </tr>\n",
       "    <tr>\n",
       "      <th>4</th>\n",
       "      <td>0</td>\n",
       "      <td>5</td>\n",
       "      <td>4</td>\n",
       "      <td>3</td>\n",
       "      <td>3</td>\n",
       "      <td>3</td>\n",
       "      <td>5</td>\n",
       "    </tr>\n",
       "    <tr>\n",
       "      <th>...</th>\n",
       "      <td>...</td>\n",
       "      <td>...</td>\n",
       "      <td>...</td>\n",
       "      <td>...</td>\n",
       "      <td>...</td>\n",
       "      <td>...</td>\n",
       "      <td>...</td>\n",
       "    </tr>\n",
       "    <tr>\n",
       "      <th>121</th>\n",
       "      <td>1</td>\n",
       "      <td>5</td>\n",
       "      <td>2</td>\n",
       "      <td>3</td>\n",
       "      <td>4</td>\n",
       "      <td>4</td>\n",
       "      <td>3</td>\n",
       "    </tr>\n",
       "    <tr>\n",
       "      <th>122</th>\n",
       "      <td>1</td>\n",
       "      <td>5</td>\n",
       "      <td>2</td>\n",
       "      <td>3</td>\n",
       "      <td>4</td>\n",
       "      <td>2</td>\n",
       "      <td>5</td>\n",
       "    </tr>\n",
       "    <tr>\n",
       "      <th>123</th>\n",
       "      <td>1</td>\n",
       "      <td>5</td>\n",
       "      <td>3</td>\n",
       "      <td>3</td>\n",
       "      <td>4</td>\n",
       "      <td>4</td>\n",
       "      <td>5</td>\n",
       "    </tr>\n",
       "    <tr>\n",
       "      <th>124</th>\n",
       "      <td>0</td>\n",
       "      <td>4</td>\n",
       "      <td>3</td>\n",
       "      <td>3</td>\n",
       "      <td>4</td>\n",
       "      <td>4</td>\n",
       "      <td>5</td>\n",
       "    </tr>\n",
       "    <tr>\n",
       "      <th>125</th>\n",
       "      <td>0</td>\n",
       "      <td>5</td>\n",
       "      <td>3</td>\n",
       "      <td>2</td>\n",
       "      <td>5</td>\n",
       "      <td>5</td>\n",
       "      <td>5</td>\n",
       "    </tr>\n",
       "  </tbody>\n",
       "</table>\n",
       "<p>126 rows × 7 columns</p>\n",
       "</div>"
      ],
      "text/plain": [
       "     Happy  DeliveredOnTime  ExpectedContent  DesiredOrder  GoodPrice  \\\n",
       "0        0                3                3             3          4   \n",
       "1        0                3                2             3          5   \n",
       "2        1                5                3             3          3   \n",
       "3        0                5                4             3          3   \n",
       "4        0                5                4             3          3   \n",
       "..     ...              ...              ...           ...        ...   \n",
       "121      1                5                2             3          4   \n",
       "122      1                5                2             3          4   \n",
       "123      1                5                3             3          4   \n",
       "124      0                4                3             3          4   \n",
       "125      0                5                3             2          5   \n",
       "\n",
       "     SatisfiedOrder  EasyOrderProcess  \n",
       "0                 2                 4  \n",
       "1                 4                 3  \n",
       "2                 3                 5  \n",
       "3                 3                 5  \n",
       "4                 3                 5  \n",
       "..              ...               ...  \n",
       "121               4                 3  \n",
       "122               2                 5  \n",
       "123               4                 5  \n",
       "124               4                 5  \n",
       "125               5                 5  \n",
       "\n",
       "[126 rows x 7 columns]"
      ]
     },
     "execution_count": 3,
     "metadata": {},
     "output_type": "execute_result"
    }
   ],
   "source": [
    "#Renaming columns to meaningful features\n",
    "df = df.rename(columns={'Y': 'Happy','X1': 'DeliveredOnTime','X2': 'ExpectedContent','X3': 'DesiredOrder','X4': 'GoodPrice','X5': 'SatisfiedOrder','X6': 'EasyOrderProcess'})\n",
    "df"
   ]
  },
  {
   "cell_type": "markdown",
   "id": "dd2f3c34-a9f4-482d-a8f1-cb38f9db99d1",
   "metadata": {},
   "source": [
    "## Predicting Happy Customer\n",
    "A classification method is required to predict a customer is happy or not based on the feature. The classification method selected for this case is decision tree as there only consists of relatively small set of features (6) and little observations. "
   ]
  },
  {
   "cell_type": "markdown",
   "id": "73f28763-0897-4f2a-aa81-9243fb1ab24c",
   "metadata": {},
   "source": [
    "**Goal(s):**\n",
    "\n",
    "> Predict if a customer is happy or not based on the answers they give to questions asked.\n",
    "\n",
    "**Success Metrics:**\n",
    "\n",
    "> Reach 73% accuracy score or above.\n",
    "\n"
   ]
  },
  {
   "cell_type": "markdown",
   "id": "10ea7ba6-7857-4835-a0b5-9525a5df7017",
   "metadata": {},
   "source": [
    "### Decision Tree"
   ]
  },
  {
   "cell_type": "code",
   "execution_count": 87,
   "id": "b6921096-d4d3-45cb-87ff-a79d32dd7e13",
   "metadata": {},
   "outputs": [],
   "source": [
    "rs=5\n",
    "# one-hot encoding\n",
    "df_ = pd.get_dummies(df)\n",
    "    \n",
    "# target/input split\n",
    "y = df_['Happy']\n",
    "X = df_.drop(['Happy'], axis=1)\n",
    "\n",
    "X_train, X_test, y_train, y_test = train_test_split(X, y, test_size = 0.15, random_state = rs)"
   ]
  },
  {
   "cell_type": "code",
   "execution_count": 88,
   "id": "feaf78ec-4505-40f3-ad8b-0ea259b15913",
   "metadata": {},
   "outputs": [
    {
     "name": "stdout",
     "output_type": "stream",
     "text": [
      "Train accuracy: 0.9772727272727273\n",
      "Test accuracy: 0.631578947368421\n"
     ]
    }
   ],
   "source": [
    "# simple decision tree training\n",
    "clf = DecisionTreeClassifier(random_state=rs)\n",
    "\n",
    "clf.fit(X_train_, y_train_)\n",
    "print(\"Train accuracy:\", clf.score(X_train_, y_train_))\n",
    "print(\"Test accuracy:\", clf.score(X_test_, y_test_))"
   ]
  },
  {
   "cell_type": "markdown",
   "id": "20a0f012-4800-432f-9b13-ee5a761f5528",
   "metadata": {},
   "source": [
    "From the Accuracy of the decision tree above. This model has successfully predict whether a customer is happy with a accuracy of 97% on the training set and 61% on test set. There is a 34% difference in accuracy which suggest that the model is overfitted.\\\n",
    "To further improve this model, a grid search is used to find the optimal hyperparameter for this dataset. "
   ]
  },
  {
   "cell_type": "code",
   "execution_count": 89,
   "id": "99aa25fd-6084-49d3-9ee8-0ed4d5922de3",
   "metadata": {},
   "outputs": [
    {
     "name": "stdout",
     "output_type": "stream",
     "text": [
      "{'criterion': 'gini', 'max_depth': 4, 'min_samples_leaf': 9}\n"
     ]
    }
   ],
   "source": [
    "#Gridsearch \n",
    "from sklearn.model_selection import GridSearchCV\n",
    "\n",
    "# grid search CV\n",
    "params = {'criterion': ['gini', 'entropy'],\n",
    "          'max_depth': range(1, 15),\n",
    "          'min_samples_leaf': range(0, 25, 1)[1:]}\n",
    "\n",
    "cv_1 = GridSearchCV(param_grid=params, estimator=DecisionTreeClassifier(random_state=rs),return_train_score=True, cv=10)\n",
    "cv_1.fit(X_train, y_train)\n",
    "\n",
    "result_set = cv_1.cv_results_\n",
    "print(cv_1.best_params_)"
   ]
  },
  {
   "cell_type": "code",
   "execution_count": 90,
   "id": "6bb6319d-e461-4703-8d12-61378a09a409",
   "metadata": {},
   "outputs": [
    {
     "name": "stdout",
     "output_type": "stream",
     "text": [
      "Train accuracy: 0.7009345794392523\n",
      "Test accuracy: 0.6842105263157895\n"
     ]
    }
   ],
   "source": [
    "cv_1.fit(X_train, y_train)\n",
    "\n",
    "print(\"Train accuracy:\", cv_1.score(X_train, y_train))\n",
    "print(\"Test accuracy:\", cv_1.score(X_test, y_test))"
   ]
  },
  {
   "cell_type": "markdown",
   "id": "70dfafd9-a429-42d8-a250-abe0cd360547",
   "metadata": {},
   "source": [
    "Overall the accuracy for test set have improved to 68%. The optimal hyperparameter resulted from the Gridsearch shows a Max depth of 1 and min sampleleaf of 15. The max depth of 1 siginifies that there no correlation between the features in classifying a customer happiness. This indicate that the tree is very interpretable and perhaps this set of features as a whole do not explain customer happiness well. \\\n",
    "\n",
    "A decision tree with XGBoost will be use to improve the accuracy."
   ]
  },
  {
   "cell_type": "markdown",
   "id": "34217030-5799-4adf-93d9-a4965ea14a69",
   "metadata": {},
   "source": [
    "#### Decision tree (XGBoost)"
   ]
  },
  {
   "cell_type": "code",
   "execution_count": 91,
   "id": "d275c964-791e-4af3-a201-7de040cb214b",
   "metadata": {},
   "outputs": [
    {
     "name": "stdout",
     "output_type": "stream",
     "text": [
      "Train accuracy: 0.9345794392523364\n",
      "Test accuracy: 0.631578947368421\n"
     ]
    }
   ],
   "source": [
    "#XGBoost\n",
    "import xgboost as xgb\n",
    "from xgboost import plot_tree\n",
    "\n",
    "#clf = xgb.XGBClassifier(use_label_encoder=False, n_estimators=10)\n",
    "# casting labels as ints, as xgboost requires it\n",
    "#clf.fit(X_train, y_train.astype(int))\n",
    "\n",
    "xgb_model = xgb.XGBClassifier(objective=\"binary:logistic\", random_state=rs)\n",
    "xgb_model.fit(X_train, y_train)\n",
    "\n",
    "y_pred = xgb_model.predict(X_test)\n",
    "\n",
    "#print(confusion_matrix(y_test, y_pred))\n",
    "print(\"Train accuracy:\", xgb_model.score(X_train, y_train))\n",
    "print(\"Test accuracy:\", xgb_model.score(X_test, y_test))"
   ]
  },
  {
   "cell_type": "code",
   "execution_count": 92,
   "id": "25aab5f3-6303-4645-9377-a923856664c2",
   "metadata": {},
   "outputs": [
    {
     "data": {
      "text/plain": [
       "XGBClassifier(base_score=None, booster=None, callbacks=None,\n",
       "              colsample_bylevel=None, colsample_bynode=None,\n",
       "              colsample_bytree=None, early_stopping_rounds=None,\n",
       "              enable_categorical=False, eval_metric=None, feature_types=None,\n",
       "              gamma=None, gpu_id=None, grow_policy=None, importance_type=None,\n",
       "              interaction_constraints=None, learning_rate=0.1, max_bin=None,\n",
       "              max_cat_threshold=None, max_cat_to_onehot=None,\n",
       "              max_delta_step=None, max_depth=7, max_leaves=None,\n",
       "              min_child_weight=None, missing=nan, monotone_constraints=None,\n",
       "              n_estimators=50, n_jobs=None, nthread=10, num_parallel_tree=None,\n",
       "              predictor=None, ...)"
      ]
     },
     "execution_count": 92,
     "metadata": {},
     "output_type": "execute_result"
    }
   ],
   "source": [
    "estimator = XGBClassifier(\n",
    "    objective= 'binary:logistic',\n",
    "    nthread=10,\n",
    "    seed=rs\n",
    ")\n",
    "\n",
    "parameters = {\n",
    "    'max_depth': range (1, 10, 1),\n",
    "    'n_estimators': range(10, 100, 10),\n",
    "    'learning_rate': [0.1, 0.01, 0.05]\n",
    "}\n",
    "\n",
    "grid_search = GridSearchCV(\n",
    "    estimator=estimator,\n",
    "    param_grid=parameters,\n",
    "    scoring = 'accuracy',\n",
    ")\n",
    "\n",
    "grid_search.fit(X_train, y_train)\n",
    "grid_search.best_estimator_"
   ]
  },
  {
   "cell_type": "code",
   "execution_count": 93,
   "id": "55908577-a38d-45cc-85ef-3bb77c8844d4",
   "metadata": {},
   "outputs": [
    {
     "name": "stdout",
     "output_type": "stream",
     "text": [
      "Train accuracy: 0.8691588785046729\n",
      "Test accuracy: 0.5263157894736842\n"
     ]
    }
   ],
   "source": [
    "print(\"Train accuracy:\", grid_search.score(X_train, y_train))\n",
    "print(\"Test accuracy:\", grid_search.score(X_test, y_test))"
   ]
  },
  {
   "cell_type": "markdown",
   "id": "151e2e72-24a9-4e7c-851e-b718c544de4f",
   "metadata": {},
   "source": [
    "With XGBoost classifier, the performance have dropped to 53% after tuning the hyperparameters with Gridsearch. \\\n",
    "\n",
    "A Logistic Regression will be considered as Decision trees have not performed well for these set of features. "
   ]
  },
  {
   "cell_type": "markdown",
   "id": "8221087f-ddd5-401b-a564-8906a13a1795",
   "metadata": {},
   "source": [
    "### Logistic Regression"
   ]
  },
  {
   "cell_type": "code",
   "execution_count": 95,
   "id": "622e96df-70bc-4994-b0f1-2f95531c7f1c",
   "metadata": {},
   "outputs": [
    {
     "name": "stdout",
     "output_type": "stream",
     "text": [
      "Train accuracy: 0.6074766355140186\n",
      "Test accuracy: 0.631578947368421\n"
     ]
    }
   ],
   "source": [
    "from sklearn.linear_model import LogisticRegression\n",
    "\n",
    "\n",
    "model = LogisticRegression(random_state=rs)\n",
    "\n",
    "# fit it to training data\n",
    "model.fit(X_train, y_train.values.ravel())\n",
    "\n",
    "# training and test accuracy\n",
    "print(\"Train accuracy:\", model.score(X_train, y_train))\n",
    "print(\"Test accuracy:\", model.score(X_test, y_test))"
   ]
  },
  {
   "cell_type": "markdown",
   "id": "cbd0ea2d-6b72-429a-ad9e-0ee56fe0f06f",
   "metadata": {
    "tags": []
   },
   "source": [
    "## Model Result"
   ]
  },
  {
   "cell_type": "markdown",
   "id": "f46fa7f1-1bd0-41e1-bb0b-314b91d0e0ae",
   "metadata": {},
   "source": [
    "Based on the models (decision tree, tree(XGBoost), Logistic Regression) developed, it is clear the customer happiness havent been able to be predicted accurately with this set of dataset. The classifying models suggest that this set of features as a whole do not have much a strong predictive power in customer hapiness. This could be due to the insufficient sample size of the dataset. \\\n",
    "\n",
    "However, the best model as of now is the Decision Tree with Gridsearch hyperparameter with an accuracy of 68%.\n",
    "The classification result can be seen below:"
   ]
  },
  {
   "cell_type": "code",
   "execution_count": 99,
   "id": "ec41e88d-a818-4a6b-809c-db0d594e61bf",
   "metadata": {},
   "outputs": [
    {
     "name": "stdout",
     "output_type": "stream",
     "text": [
      "Train accuracy: 0.5887850467289719\n",
      "Test accuracy: 0.6842105263157895\n",
      "              precision    recall  f1-score   support\n",
      "\n",
      "           0       0.62      0.62      0.62         8\n",
      "           1       0.73      0.73      0.73        11\n",
      "\n",
      "    accuracy                           0.68        19\n",
      "   macro avg       0.68      0.68      0.68        19\n",
      "weighted avg       0.68      0.68      0.68        19\n",
      "\n"
     ]
    }
   ],
   "source": [
    "# training and test accuracy for DECISION TREE with GRIDSEARCH\n",
    "print(\"Train accuracy:\", cv_1.score(X_train, y_train))\n",
    "print(\"Test accuracy:\", cv_1.score(X_test, y_test))\n",
    "\n",
    "# classification report on test data\n",
    "y_pred = cv_1.predict(X_test)\n",
    "print(classification_report(y_test, y_pred))"
   ]
  },
  {
   "cell_type": "markdown",
   "id": "9261be5b-d34c-4ef2-b7b7-acf20c8f04ef",
   "metadata": {},
   "source": [
    "**Additional Information:**\n",
    "\n",
    "The business is very interested in finding which questions/features are more important when predicting a customer’s happiness.\n",
    "\n",
    "> Using a feature selection approach show us understand what is the minimal set of attributes/features that would preserve the most information about the problem while increasing predictability of the data we have. Is there any question that we can remove in our next survey?"
   ]
  },
  {
   "cell_type": "markdown",
   "id": "2e258ffb-e68b-4905-835e-f92099ed8571",
   "metadata": {},
   "source": [
    "### Feature Importance"
   ]
  },
  {
   "cell_type": "code",
   "execution_count": 98,
   "id": "433cbef3-dcdf-4352-8916-40a595049068",
   "metadata": {},
   "outputs": [
    {
     "name": "stdout",
     "output_type": "stream",
     "text": [
      "('SatisfiedOrder', 0.381210666644043)\n",
      "('DeliveredOnTime', 0.297645844453119)\n",
      "('EasyOrderProcess', 0.16641725827000056)\n",
      "('ExpectedContent', 0.10359810493870732)\n",
      "('DesiredOrder', 0.05112812569413008)\n",
      "('GoodPrice', 0.0)\n"
     ]
    }
   ],
   "source": [
    "from sklearn.feature_extraction import DictVectorizer\n",
    "from sklearn.preprocessing import FunctionTransformer\n",
    "from sklearn.ensemble import RandomForestClassifier\n",
    "from sklearn.pipeline import make_pipeline\n",
    "\n",
    "\n",
    "# translate rows to dicts\n",
    "def row_to_dict(X, y=None):\n",
    "    return X.apply(dict, axis=1)\n",
    "\n",
    "# define prediction model\n",
    "ft = FunctionTransformer(row_to_dict, validate=False)\n",
    "dv = DictVectorizer()\n",
    "clf = DecisionTreeClassifier(random_state=rs)\n",
    "\n",
    "# glue steps together\n",
    "model = make_pipeline(ft, dv, cv_1)\n",
    "\n",
    "# train\n",
    "model.fit(X_train, y_train)\n",
    "\n",
    "# get feature importances\n",
    "feature_importances = zip(dv.feature_names_, cv_1.best_estimator_.feature_importances_)\n",
    "\n",
    "sorted_feature = []\n",
    "for i in list(feature_importances):\n",
    "    sorted_feature.append(i)\n",
    "\n",
    "sorted_feature.sort(key = lambda row: row[1], reverse=True)\n",
    "for i in sorted_feature:\n",
    "    print (i)"
   ]
  },
  {
   "cell_type": "markdown",
   "id": "8062b16a-5c7c-4dc8-ac00-8f9c65598b0e",
   "metadata": {},
   "source": [
    "In descending order, the top 3 important feature for this model are SatisfiedOrder(X5), DeliveredOnTime(X2) and EasyOrderProcess(X3).\\\n",
    "EasyOrderProcess(X6) is the least important feature with no explainability and can be excluded to ease the survey experience."
   ]
  }
 ],
 "metadata": {
  "kernelspec": {
   "display_name": "Python 3 (ipykernel)",
   "language": "python",
   "name": "python3"
  },
  "language_info": {
   "codemirror_mode": {
    "name": "ipython",
    "version": 3
   },
   "file_extension": ".py",
   "mimetype": "text/x-python",
   "name": "python",
   "nbconvert_exporter": "python",
   "pygments_lexer": "ipython3",
   "version": "3.9.7"
  }
 },
 "nbformat": 4,
 "nbformat_minor": 5
}
