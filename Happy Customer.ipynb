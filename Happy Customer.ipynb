{
 "cells": [
  {
   "cell_type": "markdown",
   "id": "ba16c1cb-ec62-42a2-8a29-b99135f0ee25",
   "metadata": {},
   "source": [
    "# Project - Happy Customer\n",
    "**Name: Zimin Lee**"
   ]
  },
  {
   "cell_type": "code",
   "execution_count": 1,
   "id": "dfeccddf-78aa-4332-948a-c8f5ab248e77",
   "metadata": {},
   "outputs": [],
   "source": [
    "import numpy as np\n",
    "import pandas as pd\n",
    "from sklearn.tree import DecisionTreeClassifier\n",
    "from sklearn.metrics import classification_report, accuracy_score\n",
    "import xgboost as xgb\n",
    "from xgboost import plot_tree\n",
    "from sklearn.model_selection import train_test_split"
   ]
  },
  {
   "cell_type": "markdown",
   "id": "a687e335-cd90-4592-b004-4318efa074b8",
   "metadata": {},
   "source": [
    "**Background:**\n",
    "\n",
    "We are one of the fastest growing startups in the logistics and delivery domain. We work with several partners and make on-demand delivery to our customers. During the COVID-19 pandemic, we are facing several different challenges and everyday we are trying to address these challenges.\n",
    "\n",
    "We thrive on making our customers happy. As a growing startup, with a global expansion strategy we know that we need to make our customers happy and the only way to do that is to measure how happy each customer is. If we can predict what makes our customers happy or unhappy, we can then take necessary actions.\n",
    "\n",
    "Getting feedback from customers is not easy either, but we do our best to get constant feedback from our customers. This is a crucial function to improve our operations across all levels.\n",
    "\n",
    "We recently did a survey to a select customer cohort. You are presented with a subset of this data. We will be using the remaining data as a private test set.\n"
   ]
  },
  {
   "cell_type": "code",
   "execution_count": 2,
   "id": "f85b8e9a-9992-4761-936b-7b0a15a7fb4b",
   "metadata": {},
   "outputs": [
    {
     "data": {
      "text/html": [
       "<div>\n",
       "<style scoped>\n",
       "    .dataframe tbody tr th:only-of-type {\n",
       "        vertical-align: middle;\n",
       "    }\n",
       "\n",
       "    .dataframe tbody tr th {\n",
       "        vertical-align: top;\n",
       "    }\n",
       "\n",
       "    .dataframe thead th {\n",
       "        text-align: right;\n",
       "    }\n",
       "</style>\n",
       "<table border=\"1\" class=\"dataframe\">\n",
       "  <thead>\n",
       "    <tr style=\"text-align: right;\">\n",
       "      <th></th>\n",
       "      <th>Y</th>\n",
       "      <th>X1</th>\n",
       "      <th>X2</th>\n",
       "      <th>X3</th>\n",
       "      <th>X4</th>\n",
       "      <th>X5</th>\n",
       "      <th>X6</th>\n",
       "    </tr>\n",
       "  </thead>\n",
       "  <tbody>\n",
       "    <tr>\n",
       "      <th>0</th>\n",
       "      <td>0</td>\n",
       "      <td>3</td>\n",
       "      <td>3</td>\n",
       "      <td>3</td>\n",
       "      <td>4</td>\n",
       "      <td>2</td>\n",
       "      <td>4</td>\n",
       "    </tr>\n",
       "    <tr>\n",
       "      <th>1</th>\n",
       "      <td>0</td>\n",
       "      <td>3</td>\n",
       "      <td>2</td>\n",
       "      <td>3</td>\n",
       "      <td>5</td>\n",
       "      <td>4</td>\n",
       "      <td>3</td>\n",
       "    </tr>\n",
       "    <tr>\n",
       "      <th>2</th>\n",
       "      <td>1</td>\n",
       "      <td>5</td>\n",
       "      <td>3</td>\n",
       "      <td>3</td>\n",
       "      <td>3</td>\n",
       "      <td>3</td>\n",
       "      <td>5</td>\n",
       "    </tr>\n",
       "    <tr>\n",
       "      <th>3</th>\n",
       "      <td>0</td>\n",
       "      <td>5</td>\n",
       "      <td>4</td>\n",
       "      <td>3</td>\n",
       "      <td>3</td>\n",
       "      <td>3</td>\n",
       "      <td>5</td>\n",
       "    </tr>\n",
       "    <tr>\n",
       "      <th>4</th>\n",
       "      <td>0</td>\n",
       "      <td>5</td>\n",
       "      <td>4</td>\n",
       "      <td>3</td>\n",
       "      <td>3</td>\n",
       "      <td>3</td>\n",
       "      <td>5</td>\n",
       "    </tr>\n",
       "    <tr>\n",
       "      <th>5</th>\n",
       "      <td>1</td>\n",
       "      <td>5</td>\n",
       "      <td>5</td>\n",
       "      <td>3</td>\n",
       "      <td>5</td>\n",
       "      <td>5</td>\n",
       "      <td>5</td>\n",
       "    </tr>\n",
       "    <tr>\n",
       "      <th>6</th>\n",
       "      <td>0</td>\n",
       "      <td>3</td>\n",
       "      <td>1</td>\n",
       "      <td>2</td>\n",
       "      <td>2</td>\n",
       "      <td>1</td>\n",
       "      <td>3</td>\n",
       "    </tr>\n",
       "    <tr>\n",
       "      <th>7</th>\n",
       "      <td>1</td>\n",
       "      <td>5</td>\n",
       "      <td>4</td>\n",
       "      <td>4</td>\n",
       "      <td>4</td>\n",
       "      <td>4</td>\n",
       "      <td>5</td>\n",
       "    </tr>\n",
       "    <tr>\n",
       "      <th>8</th>\n",
       "      <td>0</td>\n",
       "      <td>4</td>\n",
       "      <td>1</td>\n",
       "      <td>4</td>\n",
       "      <td>4</td>\n",
       "      <td>4</td>\n",
       "      <td>4</td>\n",
       "    </tr>\n",
       "    <tr>\n",
       "      <th>9</th>\n",
       "      <td>0</td>\n",
       "      <td>4</td>\n",
       "      <td>4</td>\n",
       "      <td>4</td>\n",
       "      <td>2</td>\n",
       "      <td>5</td>\n",
       "      <td>5</td>\n",
       "    </tr>\n",
       "  </tbody>\n",
       "</table>\n",
       "</div>"
      ],
      "text/plain": [
       "   Y  X1  X2  X3  X4  X5  X6\n",
       "0  0   3   3   3   4   2   4\n",
       "1  0   3   2   3   5   4   3\n",
       "2  1   5   3   3   3   3   5\n",
       "3  0   5   4   3   3   3   5\n",
       "4  0   5   4   3   3   3   5\n",
       "5  1   5   5   3   5   5   5\n",
       "6  0   3   1   2   2   1   3\n",
       "7  1   5   4   4   4   4   5\n",
       "8  0   4   1   4   4   4   4\n",
       "9  0   4   4   4   2   5   5"
      ]
     },
     "execution_count": 2,
     "metadata": {},
     "output_type": "execute_result"
    }
   ],
   "source": [
    "#Read File \n",
    "df = pd.read_csv(\"C:\\\\Users\\\\zzzim\\\\Desktop\\\\Apziva\\\\ACME-HappinessSurvey2020.csv\", sep=',')\n",
    "df.head(10)"
   ]
  },
  {
   "cell_type": "markdown",
   "id": "eaecb329-708f-4975-9f84-bde7dfa56717",
   "metadata": {},
   "source": [
    "**Variable dictionary**:\n",
    "\n",
    "Y = target attribute (Y) with values indicating 0 (unhappy) and 1 (happy) customers\\\n",
    "X1 = my order was delivered on time\\\n",
    "X2 = contents of my order was as I expected\\\n",
    "X3 = I ordered everything I wanted to order\\\n",
    "X4 = I paid a good price for my order\\\n",
    "X5 = I am satisfied with my courier\\\n",
    "X6 = the app makes ordering easy for me\\\n",
    "\\\n",
    "Attributes X1 to X6 indicate the responses for each question and have values from 1 to 5 where the smaller number indicates less and the higher number indicates more towards the answer.\n"
   ]
  },
  {
   "cell_type": "code",
   "execution_count": 13,
   "id": "fcb90a0f-40ea-4688-ab2e-b6a9259e6080",
   "metadata": {},
   "outputs": [
    {
     "data": {
      "text/html": [
       "<div>\n",
       "<style scoped>\n",
       "    .dataframe tbody tr th:only-of-type {\n",
       "        vertical-align: middle;\n",
       "    }\n",
       "\n",
       "    .dataframe tbody tr th {\n",
       "        vertical-align: top;\n",
       "    }\n",
       "\n",
       "    .dataframe thead th {\n",
       "        text-align: right;\n",
       "    }\n",
       "</style>\n",
       "<table border=\"1\" class=\"dataframe\">\n",
       "  <thead>\n",
       "    <tr style=\"text-align: right;\">\n",
       "      <th></th>\n",
       "      <th>Happy</th>\n",
       "      <th>DeliveredOnTime</th>\n",
       "      <th>ExpectedContent</th>\n",
       "      <th>DesiredOrder</th>\n",
       "      <th>GoodPrice</th>\n",
       "      <th>SatisfiedOrder</th>\n",
       "      <th>EasyOrderProcess</th>\n",
       "    </tr>\n",
       "  </thead>\n",
       "  <tbody>\n",
       "    <tr>\n",
       "      <th>0</th>\n",
       "      <td>0</td>\n",
       "      <td>3</td>\n",
       "      <td>3</td>\n",
       "      <td>3</td>\n",
       "      <td>4</td>\n",
       "      <td>2</td>\n",
       "      <td>4</td>\n",
       "    </tr>\n",
       "    <tr>\n",
       "      <th>1</th>\n",
       "      <td>0</td>\n",
       "      <td>3</td>\n",
       "      <td>2</td>\n",
       "      <td>3</td>\n",
       "      <td>5</td>\n",
       "      <td>4</td>\n",
       "      <td>3</td>\n",
       "    </tr>\n",
       "    <tr>\n",
       "      <th>2</th>\n",
       "      <td>1</td>\n",
       "      <td>5</td>\n",
       "      <td>3</td>\n",
       "      <td>3</td>\n",
       "      <td>3</td>\n",
       "      <td>3</td>\n",
       "      <td>5</td>\n",
       "    </tr>\n",
       "    <tr>\n",
       "      <th>3</th>\n",
       "      <td>0</td>\n",
       "      <td>5</td>\n",
       "      <td>4</td>\n",
       "      <td>3</td>\n",
       "      <td>3</td>\n",
       "      <td>3</td>\n",
       "      <td>5</td>\n",
       "    </tr>\n",
       "    <tr>\n",
       "      <th>4</th>\n",
       "      <td>0</td>\n",
       "      <td>5</td>\n",
       "      <td>4</td>\n",
       "      <td>3</td>\n",
       "      <td>3</td>\n",
       "      <td>3</td>\n",
       "      <td>5</td>\n",
       "    </tr>\n",
       "    <tr>\n",
       "      <th>...</th>\n",
       "      <td>...</td>\n",
       "      <td>...</td>\n",
       "      <td>...</td>\n",
       "      <td>...</td>\n",
       "      <td>...</td>\n",
       "      <td>...</td>\n",
       "      <td>...</td>\n",
       "    </tr>\n",
       "    <tr>\n",
       "      <th>121</th>\n",
       "      <td>1</td>\n",
       "      <td>5</td>\n",
       "      <td>2</td>\n",
       "      <td>3</td>\n",
       "      <td>4</td>\n",
       "      <td>4</td>\n",
       "      <td>3</td>\n",
       "    </tr>\n",
       "    <tr>\n",
       "      <th>122</th>\n",
       "      <td>1</td>\n",
       "      <td>5</td>\n",
       "      <td>2</td>\n",
       "      <td>3</td>\n",
       "      <td>4</td>\n",
       "      <td>2</td>\n",
       "      <td>5</td>\n",
       "    </tr>\n",
       "    <tr>\n",
       "      <th>123</th>\n",
       "      <td>1</td>\n",
       "      <td>5</td>\n",
       "      <td>3</td>\n",
       "      <td>3</td>\n",
       "      <td>4</td>\n",
       "      <td>4</td>\n",
       "      <td>5</td>\n",
       "    </tr>\n",
       "    <tr>\n",
       "      <th>124</th>\n",
       "      <td>0</td>\n",
       "      <td>4</td>\n",
       "      <td>3</td>\n",
       "      <td>3</td>\n",
       "      <td>4</td>\n",
       "      <td>4</td>\n",
       "      <td>5</td>\n",
       "    </tr>\n",
       "    <tr>\n",
       "      <th>125</th>\n",
       "      <td>0</td>\n",
       "      <td>5</td>\n",
       "      <td>3</td>\n",
       "      <td>2</td>\n",
       "      <td>5</td>\n",
       "      <td>5</td>\n",
       "      <td>5</td>\n",
       "    </tr>\n",
       "  </tbody>\n",
       "</table>\n",
       "<p>126 rows × 7 columns</p>\n",
       "</div>"
      ],
      "text/plain": [
       "     Happy  DeliveredOnTime  ExpectedContent  DesiredOrder  GoodPrice  \\\n",
       "0        0                3                3             3          4   \n",
       "1        0                3                2             3          5   \n",
       "2        1                5                3             3          3   \n",
       "3        0                5                4             3          3   \n",
       "4        0                5                4             3          3   \n",
       "..     ...              ...              ...           ...        ...   \n",
       "121      1                5                2             3          4   \n",
       "122      1                5                2             3          4   \n",
       "123      1                5                3             3          4   \n",
       "124      0                4                3             3          4   \n",
       "125      0                5                3             2          5   \n",
       "\n",
       "     SatisfiedOrder  EasyOrderProcess  \n",
       "0                 2                 4  \n",
       "1                 4                 3  \n",
       "2                 3                 5  \n",
       "3                 3                 5  \n",
       "4                 3                 5  \n",
       "..              ...               ...  \n",
       "121               4                 3  \n",
       "122               2                 5  \n",
       "123               4                 5  \n",
       "124               4                 5  \n",
       "125               5                 5  \n",
       "\n",
       "[126 rows x 7 columns]"
      ]
     },
     "execution_count": 13,
     "metadata": {},
     "output_type": "execute_result"
    }
   ],
   "source": [
    "#Renaming columns to meaningful features\n",
    "df = df.rename(columns={'Y': 'Happy','X1': 'DeliveredOnTime','X2': 'ExpectedContent','X3': 'DesiredOrder','X4': 'GoodPrice','X5': 'SatisfiedOrder','X6': 'EasyOrderProcess'})\n",
    "df"
   ]
  },
  {
   "cell_type": "markdown",
   "id": "73f28763-0897-4f2a-aa81-9243fb1ab24c",
   "metadata": {},
   "source": [
    "**Goal(s):**\n",
    "\n",
    "> Predict if a customer is happy or not based on the answers they give to questions asked.\n",
    "\n",
    "**Success Metrics:**\n",
    "\n",
    "> Reach 73% accuracy score or above.\n",
    "\n"
   ]
  },
  {
   "cell_type": "code",
   "execution_count": 4,
   "id": "2eabf4f6-ae79-4394-9bd6-12e5f5ad1c20",
   "metadata": {},
   "outputs": [
    {
     "data": {
      "text/plain": [
       "Happy\n",
       "1        69\n",
       "0        57\n",
       "dtype: int64"
      ]
     },
     "execution_count": 4,
     "metadata": {},
     "output_type": "execute_result"
    }
   ],
   "source": [
    "#Check for imbalance data\n",
    "df[['Happy']].value_counts()"
   ]
  },
  {
   "cell_type": "markdown",
   "id": "11f12699-fb70-4daa-993a-7a80f1afbfde",
   "metadata": {},
   "source": [
    "There is an imbalance target data for this dataset. Thus, the dataset will be downsample to the class with lesser data. This will ensure that our classifier is unbias and can predict each class well. "
   ]
  },
  {
   "cell_type": "code",
   "execution_count": 5,
   "id": "2c98971f-0b51-466d-9142-70f85d5b9b21",
   "metadata": {},
   "outputs": [
    {
     "data": {
      "text/plain": [
       "Happy\n",
       "0        57\n",
       "1        57\n",
       "dtype: int64"
      ]
     },
     "execution_count": 5,
     "metadata": {},
     "output_type": "execute_result"
    }
   ],
   "source": [
    "#Resample and downsampling step\n",
    "\n",
    "from sklearn.utils import resample\n",
    "from sklearn.utils import shuffle\n",
    "\n",
    "#Balancing Class\n",
    "#Getting the class into seperate DF\n",
    "happy = df[df['Happy']==1] \n",
    "unhappy  = df[df['Happy']==0]\n",
    "\n",
    "#The sample size of 1000 for each class with the resample function\n",
    "df_majority_downsampled_happy = resample(happy, replace = True, n_samples = 57) \n",
    "df_majority_downsampled_unhappy = resample(unhappy, replace = True, n_samples = 57) \n",
    "\n",
    "df_ = pd.concat([df_majority_downsampled_happy, df_majority_downsampled_unhappy])\n",
    "\n",
    "#To randomize the sequence of the concatenated paositive, negative class DF\n",
    "df_ = shuffle(df_) \n",
    "df_[['Happy']].value_counts()"
   ]
  },
  {
   "cell_type": "markdown",
   "id": "dd2f3c34-a9f4-482d-a8f1-cb38f9db99d1",
   "metadata": {},
   "source": [
    "## Predicting Happy Customer\n",
    "A classification method is required to predict a customer is happy or not based on the feature. The classification method selected for this case is decision tree as there only consists of relatively small set of features (6) and little observations. "
   ]
  },
  {
   "cell_type": "markdown",
   "id": "10ea7ba6-7857-4835-a0b5-9525a5df7017",
   "metadata": {},
   "source": [
    "### Decision Tree"
   ]
  },
  {
   "cell_type": "code",
   "execution_count": 6,
   "id": "32231be4-d018-48d2-aca7-a8b5b753e19f",
   "metadata": {},
   "outputs": [
    {
     "name": "stdout",
     "output_type": "stream",
     "text": [
      "Train accuracy: 0.9493670886075949\n",
      "Test accuracy: 0.7714285714285715\n"
     ]
    }
   ],
   "source": [
    "from sklearn.preprocessing import OneHotEncoder\n",
    "\n",
    "rs = 1\n",
    "\n",
    "#Seperate features and label\n",
    "X = df_[['DeliveredOnTime','ExpectedContent','DesiredOrder','GoodPrice','SatisfiedOrder', 'EasyOrderProcess']]\n",
    "y = df_[['Happy']]\n",
    "\n",
    "#OHE\n",
    "ohe = OneHotEncoder()\n",
    "ohe.fit(X)\n",
    "X_ohe = ohe.transform(X).toarray()\n",
    "ohe_df = pd.DataFrame(X_ohe, columns=ohe.get_feature_names(X.columns))\n",
    "\n",
    "#Split train and test set\n",
    "X_train, X_test, y_train, y_test = train_test_split(X_ohe, y, test_size = 0.3, random_state = rs)\n",
    "\n",
    "# simple decision tree training\n",
    "clf = DecisionTreeClassifier(random_state=rs)\n",
    "\n",
    "clf.fit(X_train, y_train)\n",
    "print(\"Train accuracy:\", clf.score(X_train, y_train))\n",
    "print(\"Test accuracy:\", clf.score(X_test, y_test))"
   ]
  },
  {
   "cell_type": "code",
   "execution_count": 23,
   "id": "21cea69e-ec97-4edf-a8d7-091fe53fa490",
   "metadata": {},
   "outputs": [
    {
     "name": "stdout",
     "output_type": "stream",
     "text": [
      "Train accuracy: 0.9772727272727273\n",
      "Test accuracy: 0.6052631578947368\n"
     ]
    }
   ],
   "source": [
    " # one-hot encoding\n",
    "df_ = pd.get_dummies(df)\n",
    "    \n",
    "# target/input split\n",
    "y = df_['Happy']\n",
    "X = df_.drop(['Happy'], axis=1)\n",
    "X_train, X_test, y_train, y_test = train_test_split(X, y, test_size = 0.3, random_state = rs)\n",
    "\n",
    "# simple decision tree training\n",
    "clf = DecisionTreeClassifier(random_state=rs)\n",
    "\n",
    "clf.fit(X_train, y_train)\n",
    "print(\"Train accuracy:\", clf.score(X_train, y_train))\n",
    "print(\"Test accuracy:\", clf.score(X_test, y_test))"
   ]
  },
  {
   "cell_type": "code",
   "execution_count": null,
   "id": "cb4ec382-cb98-4fca-85e4-167688c397e7",
   "metadata": {},
   "outputs": [
    {
     "name": "stdout",
     "output_type": "stream",
     "text": [
      "              precision    recall  f1-score   support\n",
      "\n",
      "           0       0.90      0.90      0.90        21\n",
      "           1       0.86      0.86      0.86        14\n",
      "\n",
      "    accuracy                           0.89        35\n",
      "   macro avg       0.88      0.88      0.88        35\n",
      "weighted avg       0.89      0.89      0.89        35\n",
      "\n"
     ]
    }
   ],
   "source": [
    "y_pred = clf.predict(X_test)\n",
    "print(classification_report(y_test, y_pred))"
   ]
  },
  {
   "cell_type": "markdown",
   "id": "c31188e3-e790-45df-a01e-b7a71e63f288",
   "metadata": {},
   "source": [
    "From the Accuracy of the decision tree above. This model has successfully predict whether a customer is happy with a accuracy of 94% on the training set and 77% on test set. There is a 17% difference in accuracy which suggest that the model may be overfitted.\\\n",
    "To further improve this model, a grid search is used to find the optimal hyperparameter for this dataset. "
   ]
  },
  {
   "cell_type": "code",
   "execution_count": 10,
   "id": "d2ad0ff0-5b87-4b9a-9f2e-49bff299e918",
   "metadata": {},
   "outputs": [
    {
     "name": "stdout",
     "output_type": "stream",
     "text": [
      "{'criterion': 'gini', 'max_depth': 5, 'min_samples_leaf': 5}\n"
     ]
    }
   ],
   "source": [
    "from sklearn.model_selection import GridSearchCV\n",
    "\n",
    "# grid search CV\n",
    "params = {'criterion': ['gini', 'entropy'],\n",
    "          'max_depth': range(1, 6),\n",
    "          'min_samples_leaf': range(0, 25, 1)[1:]}\n",
    "\n",
    "cv_1 = GridSearchCV(param_grid=params, estimator=DecisionTreeClassifier(random_state=rs),return_train_score=True, cv=10)\n",
    "cv_1.fit(X_train, y_train)\n",
    "\n",
    "result_set = cv_1.cv_results_\n",
    "print(cv_1.best_params_)"
   ]
  },
  {
   "cell_type": "code",
   "execution_count": 11,
   "id": "ec729d6b-73ae-485c-9f11-a8a8df1c295e",
   "metadata": {},
   "outputs": [
    {
     "name": "stdout",
     "output_type": "stream",
     "text": [
      "Train accuracy: 0.810126582278481\n",
      "Test accuracy: 0.7428571428571429\n"
     ]
    }
   ],
   "source": [
    "cv_1.fit(X_train, y_train)\n",
    "\n",
    "print(\"Train accuracy:\", cv_1.score(X_train, y_train))\n",
    "print(\"Test accuracy:\", cv_1.score(X_test, y_test))"
   ]
  },
  {
   "cell_type": "code",
   "execution_count": 12,
   "id": "173af739-05ae-4466-820a-aa61dd95329b",
   "metadata": {},
   "outputs": [
    {
     "name": "stdout",
     "output_type": "stream",
     "text": [
      "              precision    recall  f1-score   support\n",
      "\n",
      "           0       0.61      0.85      0.71        13\n",
      "           1       0.88      0.68      0.77        22\n",
      "\n",
      "    accuracy                           0.74        35\n",
      "   macro avg       0.75      0.76      0.74        35\n",
      "weighted avg       0.78      0.74      0.75        35\n",
      "\n"
     ]
    }
   ],
   "source": [
    "y_pred = cv_1.predict(X_test)\n",
    "print(classification_report(y_test, y_pred))"
   ]
  },
  {
   "cell_type": "markdown",
   "id": "c1b35dad-e93b-456f-ad66-352142466ed0",
   "metadata": {},
   "source": [
    "Based on the decision tree with optimal hyperparameter, there is a decrease in both training and test set accuracy. This suggest that the optimal hyperparameter may not the best fit afterall and this could be due to the small amount of training data we have. With the higher accuract score of 77% on the basic decision tree, we have selected that as the best model for this case. "
   ]
  },
  {
   "cell_type": "markdown",
   "id": "9261be5b-d34c-4ef2-b7b7-acf20c8f04ef",
   "metadata": {},
   "source": [
    "**Additional Information:**\n",
    "\n",
    "The business is very interested in finding which questions/features are more important when predicting a customer’s happiness.\n",
    "\n",
    "> Using a feature selection approach show us understand what is the minimal set of attributes/features that would preserve the most information about the problem while increasing predictability of the data we have. Is there any question that we can remove in our next survey?"
   ]
  },
  {
   "cell_type": "markdown",
   "id": "2e258ffb-e68b-4905-835e-f92099ed8571",
   "metadata": {},
   "source": [
    "### Feature Importance"
   ]
  },
  {
   "cell_type": "code",
   "execution_count": 41,
   "id": "00a0de67-bdbd-41f1-8e2a-42979162da38",
   "metadata": {},
   "outputs": [
    {
     "name": "stdout",
     "output_type": "stream",
     "text": [
      "('SatisfiedOrder', 0.22614055021864132)\n",
      "('ExpectedContent', 0.19207604950874047)\n",
      "('DeliveredOnTime', 0.19078121046903485)\n",
      "('DesiredOrder', 0.17235382882757933)\n",
      "('EasyOrderProcess', 0.11546049146811417)\n",
      "('GoodPrice', 0.10318786950788991)\n"
     ]
    }
   ],
   "source": [
    "from sklearn.feature_extraction import DictVectorizer\n",
    "from sklearn.preprocessing import FunctionTransformer\n",
    "from sklearn.ensemble import RandomForestClassifier\n",
    "from sklearn.pipeline import make_pipeline\n",
    "\n",
    "\n",
    "# translate rows to dicts\n",
    "def row_to_dict(X, y=None):\n",
    "    return X.apply(dict, axis=1)\n",
    "\n",
    "# define prediction model\n",
    "ft = FunctionTransformer(row_to_dict, validate=False)\n",
    "dv = DictVectorizer()\n",
    "clf = DecisionTreeClassifier(random_state=rs)\n",
    "\n",
    "# glue steps together\n",
    "model = make_pipeline(ft, dv, clf)\n",
    "\n",
    "# train\n",
    "model.fit(X_train, y_train)\n",
    "\n",
    "# get feature importances\n",
    "feature_importances = zip(dv.feature_names_, clf.feature_importances_)\n",
    "\n",
    "sorted_feature = []\n",
    "for i in list(feature_importances):\n",
    "    sorted_feature.append(i)\n",
    "\n",
    "sorted_feature.sort(key = lambda row: row[1], reverse=True)\n",
    "for i in sorted_feature:\n",
    "    print (i)"
   ]
  },
  {
   "cell_type": "markdown",
   "id": "8062b16a-5c7c-4dc8-ac00-8f9c65598b0e",
   "metadata": {},
   "source": [
    "In descending order, the top 3 important feature for this model are SatisfiedOrder(X5), ExpectedContent(X2) and DeliveredOnTime(X3).\\\n",
    "EasyOrderProcess(X6) and GoodPrice(X4) are the two least important feature which can be excluded to ease the survey experience due to the low feature importance. "
   ]
  }
 ],
 "metadata": {
  "kernelspec": {
   "display_name": "Python 3 (ipykernel)",
   "language": "python",
   "name": "python3"
  },
  "language_info": {
   "codemirror_mode": {
    "name": "ipython",
    "version": 3
   },
   "file_extension": ".py",
   "mimetype": "text/x-python",
   "name": "python",
   "nbconvert_exporter": "python",
   "pygments_lexer": "ipython3",
   "version": "3.9.7"
  }
 },
 "nbformat": 4,
 "nbformat_minor": 5
}
